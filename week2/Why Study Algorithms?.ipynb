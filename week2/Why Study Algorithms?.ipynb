{
 "cells": [
  {
   "cell_type": "markdown",
   "metadata": {},
   "source": [
    "# Fibonacci Numbers \n",
    "\n",
    "definition \n",
    "\n",
    "Fn = {0, n = 0, 1, n = 1, Fn-1 + Fn-2 , n > 1}\n",
    "0,1,1,2,3,4,5,8,13..."
   ]
  },
  {
   "cell_type": "markdown",
   "metadata": {},
   "source": [
    "Naive Algorithm\n",
    "\n",
    "if n <= 1:\n",
    "  return n\n",
    "  \n",
    "else:\n",
    "\n",
    "  return Fib(n-1) + Fib(n-2)\n",
    "  \n",
    "let T(n) denote the number of lines of code executed by Fib(n)\n",
    "\n",
    "T(n) = 3 + T(n-1) + T(n-2)\n",
    "T(n) = {2 if n >=1, T(n-1) + T(n-2) + 3 else }\n",
    "\n",
    "Therefore T(b) >= Fn\n",
    "T(100) = aps 1.77 * 10^21 (1.77 sextillion)\n",
    "takes 56,000 years\n",
    "\n",
    "Efficient Algorithm\n",
    "Fn = {0 n=0, 1 n = 1, Fn-1 + Fn-2  n>1}\n",
    "\n",
    "imitate hand computation \n",
    "0,1,2,3,5,8\n",
    "0+1 = 1\n",
    "1+1 = 2\n",
    "1+2 = 3 \n",
    "2+3 = 5\n",
    "3+5 = 8 \n",
    "\n",
    "New Algorithm \n",
    "\n",
    "FibList(n)\n",
    "\n",
    "create an array F[0...n]\n",
    "F[0] = 0\n",
    "F[1] = 0\n",
    "\n",
    "for i form 2 to n:\n",
    "   F[i] = F[i-1] + F[i-2]\n",
    "return F[n]\n",
    "\n",
    "T(n) = 2n+2. SO T(100) = 202"
   ]
  },
  {
   "cell_type": "code",
   "execution_count": 158,
   "metadata": {},
   "outputs": [],
   "source": [
    "def naiveFib(n):\n",
    "    if n <= 1:\n",
    "        return n\n",
    "    else:\n",
    "        return naiveFib(n-1) + naiveFib(n-2)"
   ]
  },
  {
   "cell_type": "code",
   "execution_count": 159,
   "metadata": {},
   "outputs": [
    {
     "data": {
      "text/plain": [
       "55"
      ]
     },
     "execution_count": 159,
     "metadata": {},
     "output_type": "execute_result"
    }
   ],
   "source": [
    "\n",
    "naiveFib(10)"
   ]
  },
  {
   "cell_type": "code",
   "execution_count": 211,
   "metadata": {
    "collapsed": true
   },
   "outputs": [],
   "source": [
    "def efficientFib(n):\n",
    "    \n",
    "    if n == 0:\n",
    "        return 0\n",
    "    \n",
    "    array = [0] * (n+1) \n",
    "    array[0] = 0 \n",
    "    array[1] = 1\n",
    "    \n",
    "    for i in range(2,n+1):\n",
    "        array[i] = array[i-1] + array[i-2]\n",
    "    return array[-1] % 10\n",
    "#     return sum(array[n-1:])\n",
    "   "
   ]
  },
  {
   "cell_type": "code",
   "execution_count": 212,
   "metadata": {},
   "outputs": [
    {
     "data": {
      "text/plain": [
       "9"
      ]
     },
     "execution_count": 212,
     "metadata": {},
     "output_type": "execute_result"
    }
   ],
   "source": [
    "efficientFib(331)"
   ]
  },
  {
   "cell_type": "markdown",
   "metadata": {},
   "source": [
    "Define greates common divisor \n",
    "Compute greatest common divisors inefficiently \n",
    "\n",
    "\n",
    "GCDs\n",
    "put fraction a/b in simplest form \n",
    "\n",
    "divide numerator and denominator by d, to get (a/d/) (b/d)\n",
    "\n",
    "need d to divide a and b \n",
    "want d to be as large as possible \n",
    "\n",
    "Naive Naive\n",
    "Naive NaiveGCD(a,b)\n",
    "best = 0 \n",
    "\n",
    "for d from 1 to a+b :\n",
    "  if d/a and d/b :\n",
    "  best = d \n",
    "  return best \n",
    "\n",
    "slow:\n",
    "runtime approximately a+b\n",
    "verly slow for 20 digit numbers\n",
    "\n",
    "Efficient Algorithms\n",
    "\n",
    "let a' be the remainder when a is divided by b  then\n",
    "gcd(a,b) = gcd(a'b) = gcd(b,a')\n",
    "\n",
    "\n",
    "proof\n",
    "\n",
    "a = a' + bq for some q\n",
    "\n",
    "d divides a and b if and only if it divides \n",
    "a' and b \n",
    "\n",
    "Euclidean ALgorithm \n",
    "\n",
    "if b = 0:\n",
    "return a \n",
    "\n",
    "a' = the remainder when a is divided by b \n",
    "return EuclidGCD(b,a')"
   ]
  },
  {
   "cell_type": "code",
   "execution_count": 213,
   "metadata": {},
   "outputs": [],
   "source": [
    "# def naiveGCD(a,b):\n",
    "#     best = 0 \n",
    "    \n",
    "#     for  d in range(1, a+b):\n",
    "#         if d % a and d % b:\n",
    "# #         if d / a and d/b :\n",
    "#             best = d\n",
    "#     return best \n",
    "\n",
    "def GCD(a,b):\n",
    "    \n",
    "    if b == 0:\n",
    "        return a\n",
    "    \n",
    "    else:\n",
    "        return naiveGCD(b, a % b)\n",
    "        "
   ]
  },
  {
   "cell_type": "code",
   "execution_count": 187,
   "metadata": {},
   "outputs": [
    {
     "data": {
      "text/plain": [
       "4"
      ]
     },
     "execution_count": 187,
     "metadata": {},
     "output_type": "execute_result"
    }
   ],
   "source": [
    "def LCM(a,b):\n",
    "    \n",
    "    "
   ]
  },
  {
   "cell_type": "code",
   "execution_count": 209,
   "metadata": {},
   "outputs": [
    {
     "data": {
      "text/plain": [
       "4"
      ]
     },
     "execution_count": 209,
     "metadata": {},
     "output_type": "execute_result"
    }
   ],
   "source": [
    "3452345324 % 10"
   ]
  },
  {
   "cell_type": "code",
   "execution_count": 217,
   "metadata": {},
   "outputs": [
    {
     "data": {
      "text/plain": [
       "24"
      ]
     },
     "execution_count": 217,
     "metadata": {},
     "output_type": "execute_result"
    }
   ],
   "source": [
    "4*3\n",
    "4*6\n",
    "3*8"
   ]
  },
  {
   "cell_type": "code",
   "execution_count": null,
   "metadata": {
    "collapsed": true
   },
   "outputs": [],
   "source": []
  }
 ],
 "metadata": {
  "kernelspec": {
   "display_name": "Python 3",
   "language": "python",
   "name": "python3"
  },
  "language_info": {
   "codemirror_mode": {
    "name": "ipython",
    "version": 3
   },
   "file_extension": ".py",
   "mimetype": "text/x-python",
   "name": "python",
   "nbconvert_exporter": "python",
   "pygments_lexer": "ipython3",
   "version": "3.6.1"
  }
 },
 "nbformat": 4,
 "nbformat_minor": 2
}
