{
 "cells": [
  {
   "cell_type": "markdown",
   "metadata": {},
   "source": [
    "Greedy Algorithms\n",
    "\n",
    "\n"
   ]
  },
  {
   "cell_type": "markdown",
   "metadata": {},
   "source": [
    "A = X0 <= X1 <= X2 <= ...<=Xn <= Xn+1 = B\n",
    "\n",
    "numRefils = = 0, currentRefill = 0 \n",
    "while currentRefil <= n:\n",
    "   lastRefill = currentRefill\n",
    "   while(currentRefill  <= n and x[currentRefill + 1] - x[lastRefill] <= L):\n",
    "   currentRefill = currentRefill + 1\n",
    "  if currentRefill == lastRefill:\n",
    "      return IMPOSSIBLE \n",
    "      \n",
    "    if currentRefill <= n:\n",
    "        numRefills = numRefills + 1 \n",
    "        \n",
    "     return numRefills\n",
    "     \n",
    "     "
   ]
  },
  {
   "cell_type": "markdown",
   "metadata": {
    "collapsed": true
   },
   "source": [
    "#While knapsack is not full \n",
    "#choose item i with maximum vi/wi\n",
    "#if item fits into knapsack, take all of it \n",
    "#otherwise take so much as to fill the knapsack \n",
    "#return total value and amounts taken "
   ]
  },
  {
   "cell_type": "markdown",
   "metadata": {},
   "source": [
    "Knapsack(W,w1,v1,...,wn,vn)\n",
    "\n",
    "A = [0,0,...0], V = 0 \n",
    "repeat n times:\n",
    "if W = 0:\n",
    "  return (V,A)\n",
    "  \n",
    " select i with wi > 0 and max vi/wi\n",
    " \n",
    " a = min(wi,W)\n",
    " \n",
    " V = V + a(vi/wi)\n",
    " wi = wi-a, A[i] + a, W = W-a\n",
    "return (V,A)\n"
   ]
  },
  {
   "cell_type": "markdown",
   "metadata": {
    "collapsed": true
   },
   "source": [
    "Main ingredients\n",
    "#Safe move \n",
    "#Prove Safety \n",
    "#Solve subproblem \n",
    "#Estimate running time "
   ]
  },
  {
   "cell_type": "code",
   "execution_count": 1,
   "metadata": {
    "collapsed": true
   },
   "outputs": [],
   "source": [
    "def change(m):\n",
    "    coins = [1,5,10]\n",
    "    d = coins.pop()\n",
    "    i = 0\n",
    "    while m:\n",
    "        if d > m:\n",
    "            d = coins.pop()\n",
    "        else:\n",
    "            print(m)\n",
    "            m -= d \n",
    "            i += 1 \n",
    "    return i\n"
   ]
  },
  {
   "cell_type": "code",
   "execution_count": 3,
   "metadata": {
    "collapsed": true
   },
   "outputs": [],
   "source": [
    "# Uses python3\n",
    "import sys\n",
    "\n",
    "def sort_values(weights, values):\n",
    "    \n",
    "    result = []\n",
    "    for index, weight in enumerate(weights):\n",
    "         result.append([index, values[index] / weight])\n",
    "\n",
    "    return sorted(result, key=lambda x: x[1], reverse=True)\n",
    "\n",
    "\n",
    "def get_optimal_value(capacity, weights, values):\n",
    "    \n",
    "    sorted_weight_indexes = sort_values(weights, values)\n",
    "\n",
    "    capacity_left = capacity\n",
    "    a = []\n",
    "    best_value = 0\n",
    "    for [index, coeff] in sorted_weight_indexes:\n",
    "        \n",
    "        if capacity_left == 0: return best_value\n",
    "\n",
    "    volume_to_reduce = min(weights[index], capacity_left)\n",
    "    capacity_left -= volume_to_reduce\n",
    "    best_value += volume_to_reduce * coeff\n",
    "\n",
    "    return best_value\n"
   ]
  },
  {
   "cell_type": "code",
   "execution_count": 4,
   "metadata": {
    "collapsed": true
   },
   "outputs": [],
   "source": [
    "def min_dot_product(a, b):\n",
    "    #write your code here\n",
    "    res = 0\n",
    "    a.sort()\n",
    "    b.sort()\n",
    "    for i in range(len(a)):\n",
    "        res += a[i] * b[len(a)-i-1]\n",
    "    return res\n"
   ]
  },
  {
   "cell_type": "code",
   "execution_count": 8,
   "metadata": {},
   "outputs": [
    {
     "data": {
      "text/plain": [
       "20"
      ]
     },
     "execution_count": 8,
     "metadata": {},
     "output_type": "execute_result"
    }
   ],
   "source": [
    "min_dot_product([1,2,3,4],[1,2,3,4])"
   ]
  },
  {
   "cell_type": "code",
   "execution_count": null,
   "metadata": {
    "collapsed": true
   },
   "outputs": [],
   "source": []
  }
 ],
 "metadata": {
  "kernelspec": {
   "display_name": "Python 3",
   "language": "python",
   "name": "python3"
  },
  "language_info": {
   "codemirror_mode": {
    "name": "ipython",
    "version": 3
   },
   "file_extension": ".py",
   "mimetype": "text/x-python",
   "name": "python",
   "nbconvert_exporter": "python",
   "pygments_lexer": "ipython3",
   "version": "3.6.1"
  }
 },
 "nbformat": 4,
 "nbformat_minor": 2
}
