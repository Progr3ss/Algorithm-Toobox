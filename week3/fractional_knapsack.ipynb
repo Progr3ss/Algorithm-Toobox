{
 "cells": [
  {
   "cell_type": "code",
   "execution_count": 1,
   "metadata": {
    "collapsed": true
   },
   "outputs": [],
   "source": [
    "# def get_optimal_value(capacity, weights,\n",
    "#     value = 0.\n",
    "\n",
    "\n",
    "#     proportion = [float(v)/ float(w) for\n",
    "    \n",
    "#     for _ in range(len(weights) +1):\n",
    "#         if capacity == 0:\n",
    "#             return value \n",
    "#             break\n",
    "#      max_weight = max(proportion)\n",
    "#      index = proportion.index(max_weight)\n",
    "    \n",
    "        \n"
   ]
  },
  {
   "cell_type": "code",
   "execution_count": 8,
   "metadata": {},
   "outputs": [
    {
     "ename": "NameError",
     "evalue": "name 'raw_input' is not defined",
     "output_type": "error",
     "traceback": [
      "\u001b[0;31m-----------------------------------------\u001b[0m",
      "\u001b[0;31mNameError\u001b[0mTraceback (most recent call last)",
      "\u001b[0;32m<ipython-input-8-53178e808bff>\u001b[0m in \u001b[0;36m<module>\u001b[0;34m()\u001b[0m\n\u001b[1;32m     28\u001b[0m \u001b[0;34m\u001b[0m\u001b[0m\n\u001b[1;32m     29\u001b[0m \u001b[0;32mif\u001b[0m \u001b[0m__name__\u001b[0m \u001b[0;34m==\u001b[0m \u001b[0;34m\"__main__\"\u001b[0m\u001b[0;34m:\u001b[0m\u001b[0;34m\u001b[0m\u001b[0m\n\u001b[0;32m---> 30\u001b[0;31m     \u001b[0mdata\u001b[0m \u001b[0;34m=\u001b[0m \u001b[0mlist\u001b[0m\u001b[0;34m(\u001b[0m\u001b[0mmap\u001b[0m\u001b[0;34m(\u001b[0m\u001b[0mint\u001b[0m\u001b[0;34m,\u001b[0m \u001b[0mraw_input\u001b[0m\u001b[0;34m(\u001b[0m\u001b[0;34m)\u001b[0m\u001b[0;34m.\u001b[0m\u001b[0msplit\u001b[0m\u001b[0;34m(\u001b[0m\u001b[0;34m)\u001b[0m\u001b[0;34m)\u001b[0m\u001b[0;34m)\u001b[0m\u001b[0;34m\u001b[0m\u001b[0m\n\u001b[0m\u001b[1;32m     31\u001b[0m     \u001b[0mn\u001b[0m\u001b[0;34m,\u001b[0m \u001b[0mcapacity\u001b[0m \u001b[0;34m=\u001b[0m \u001b[0mdata\u001b[0m\u001b[0;34m[\u001b[0m\u001b[0;36m0\u001b[0m\u001b[0;34m:\u001b[0m\u001b[0;36m2\u001b[0m\u001b[0;34m]\u001b[0m\u001b[0;34m\u001b[0m\u001b[0m\n\u001b[1;32m     32\u001b[0m     \u001b[0mvalues\u001b[0m \u001b[0;34m=\u001b[0m \u001b[0;34m[\u001b[0m\u001b[0;36m0\u001b[0m\u001b[0;34m]\u001b[0m\u001b[0;34m*\u001b[0m\u001b[0mn\u001b[0m\u001b[0;34m\u001b[0m\u001b[0m\n",
      "\u001b[0;31mNameError\u001b[0m: name 'raw_input' is not defined"
     ]
    }
   ],
   "source": [
    "# Uses python3\n",
    "import sys\n",
    "import unittest\n",
    "def optiaml_value(capacity, weights, values):\n",
    "    values = 0.\n",
    "    proportion = [float(v) / float(w) for v , w in zip(values,weights)]\n",
    "    \n",
    "    for _ in range(len(weights)+1):\n",
    "        if capacity == 0:\n",
    "            return value\n",
    "            break \n",
    "        max_weight = max(proportion)\n",
    "        index = proportion.index(max_weight)\n",
    "        proportion[index] = -1 \n",
    "        add_capacity = min(capacity, weights[index])\n",
    "        value += add_capacity * max_weight\n",
    "        weights[index] -= add_capacity\n",
    "        capacity -= add_capacity\n",
    "    return value \n",
    "\n",
    "# if __name__ == \"__main__\":\n",
    "#     data = list(map(int, sys.stdin.read().split()))\n",
    "#     n, capacity = data[0:2]\n",
    "#     values = data[2:(2 * n + 2):2]\n",
    "#     weights = data[3:(2 * n + 2):2]\n",
    "#     opt_value = optimal_value(capacity, weights, values)\n",
    "#     print(\"{:.10f}\".format(opt_value))\n",
    "\n",
    "if __name__ == \"__main__\":\n",
    "    data = list(map(int, raw_input().split()))\n",
    "    n, capacity = data[0:2]\n",
    "    values = [0]*n\n",
    "    weights = [0]*n\n",
    "    for i in range(n):\n",
    "        values[i], weights[i] = map(int, raw_input().split())\n",
    "    opt_value = optiaml_value(capacity, weights, values)\n",
    "    print(\"{:.10f}\".format(opt_value))\n",
    "    "
   ]
  },
  {
   "cell_type": "code",
   "execution_count": null,
   "metadata": {
    "collapsed": true
   },
   "outputs": [],
   "source": []
  }
 ],
 "metadata": {
  "kernelspec": {
   "display_name": "Python 3",
   "language": "python",
   "name": "python3"
  },
  "language_info": {
   "codemirror_mode": {
    "name": "ipython",
    "version": 3
   },
   "file_extension": ".py",
   "mimetype": "text/x-python",
   "name": "python",
   "nbconvert_exporter": "python",
   "pygments_lexer": "ipython3",
   "version": "3.6.1"
  }
 },
 "nbformat": 4,
 "nbformat_minor": 2
}
