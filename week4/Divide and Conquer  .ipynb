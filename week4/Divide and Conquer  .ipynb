{
 "cells": [
  {
   "cell_type": "code",
   "execution_count": null,
   "metadata": {
    "collapsed": true
   },
   "outputs": [],
   "source": []
  },
  {
   "cell_type": "markdown",
   "metadata": {},
   "source": [
    "#Break into non-overlapping subproblems of the same type\n",
    "#Solve subproblems\n",
    "#Combine results"
   ]
  },
  {
   "cell_type": "markdown",
   "metadata": {},
   "source": [
    "#linear search\n",
    "\n",
    "Searching in an array\n",
    "\n",
    "##Input: An array A with n elements \n",
    "       A key k\n",
    "##Output: An index, i, where A[i] = k\n",
    "        if there is no such i, then \n",
    "        NOT_FOUND\n",
    "        \n",
    "        \n",
    "        "
   ]
  },
  {
   "cell_type": "markdown",
   "metadata": {},
   "source": [
    "#LinearSearch(A, low, high, key):\n",
    "if high < low:\n",
    "    return NOT_FOUND\n",
    "if A[low] = key:\n",
    "    return low\n",
    "return LinearSearch(A, low+ 1, high, key)"
   ]
  },
  {
   "cell_type": "markdown",
   "metadata": {},
   "source": [
    "Binary Search "
   ]
  },
  {
   "cell_type": "markdown",
   "metadata": {},
   "source": [
    "input: A sorted array A[low...high]\n",
    "    (Alow <= i < high : A[i] <= A[i+1])\n",
    "    A key k\n",
    "Output: An index, i,(low <= i <= high) where\n",
    "    A[i] = k\n",
    "    Otherwise, the greatest index i, \n",
    "    where A[i] < k\n",
    "    Otherwise (k < A[low]), the result is low - 1"
   ]
  },
  {
   "cell_type": "markdown",
   "metadata": {},
   "source": [
    "BinarySearch(A,low,high,key)\n",
    "if high < low: \n",
    "    return low - 1\n",
    "\n",
    "mid = (low +((high - low )/ 2 ))\n",
    "\n",
    "if key = A[mid]:\n",
    "     return mid\n",
    "else if key < A[mid]:\n",
    "    return BinarySearch(A,low,mid-1,key)\n",
    "else:\n",
    "    return BinarySearch(A, mid+1, high,key)"
   ]
  },
  {
   "cell_type": "markdown",
   "metadata": {},
   "source": [
    "Polynomial multiplicaiton\n",
    "\n",
    "MultPoly(A,B,n)\n",
    "product = Array[2n-1]\n",
    "for i in from 0 to 2n -2:\n",
    "    product[i] = 0 \n",
    "for i form 0 to n-1:\n",
    "    for j from 0 to n-1:\n",
    "        product[i+j] = product[i+j] A[i]*A[j]\n",
    "return product \n",
    "\n",
    "\n",
    "Runtime: O(n^2)"
   ]
  },
  {
   "cell_type": "markdown",
   "metadata": {},
   "source": [
    "Master Theorem \n",
    "Theorem \n",
    "\n",
    "if T(n) = aT(flow[n/b] +O(n^d))\n",
    "\n",
    "(for constants a > 0, b > 1, d>= 0)\n",
    "then:\n",
    "T(n) = \n",
    "{\n",
    "O(n^d) if d > logb^a\n",
    "O(n^d log) if d = logb^a\n",
    "O(n^logb^a) if d < logb^a \n",
    "\n",
    "\n",
    "}"
   ]
  },
  {
   "cell_type": "code",
   "execution_count": null,
   "metadata": {
    "collapsed": true
   },
   "outputs": [],
   "source": []
  }
 ],
 "metadata": {
  "kernelspec": {
   "display_name": "Python 3",
   "language": "python",
   "name": "python3"
  },
  "language_info": {
   "codemirror_mode": {
    "name": "ipython",
    "version": 3
   },
   "file_extension": ".py",
   "mimetype": "text/x-python",
   "name": "python",
   "nbconvert_exporter": "python",
   "pygments_lexer": "ipython3",
   "version": "3.6.1"
  }
 },
 "nbformat": 4,
 "nbformat_minor": 2
}
